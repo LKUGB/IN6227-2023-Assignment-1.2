{
 "cells": [
  {
   "cell_type": "code",
   "execution_count": 1,
   "id": "fd1e4cc3",
   "metadata": {},
   "outputs": [],
   "source": [
    "import pandas as pd \n",
    "import matplotlib.pyplot as plt \n",
    "import seaborn as sns\n",
    "import numpy as np \n",
    "import os \n",
    "\n",
    "# load packages for building the decision tree\n",
    "from sklearn.tree import DecisionTreeClassifier\n",
    "from sklearn.model_selection import train_test_split \n",
    "from sklearn import metrics\n",
    "from sklearn import tree\n",
    "from sklearn.metrics import classification_report, confusion_matrix\n",
    "from sklearn.model_selection import cross_validate\n",
    "from sklearn.model_selection import RandomizedSearchCV\n",
    "from sklearn.model_selection import GridSearchCV\n",
    "\n",
    "from sklearn.metrics import precision_recall_curve\n",
    "from sklearn.metrics import roc_curve\n",
    "import matplotlib.pyplot as plt\n",
    "from sklearn.metrics import auc\n",
    "\n",
    "from sklearn.ensemble import VotingClassifier\n",
    "from sklearn.model_selection import cross_val_score"
   ]
  },
  {
   "cell_type": "code",
   "execution_count": 3,
   "id": "29a6c231",
   "metadata": {},
   "outputs": [
    {
     "data": {
      "text/plain": [
       "Index(['Age', 'Workclass', 'Fnlwgt', 'Education', 'Education_Num',\n",
       "       'Marital_Status', 'Occupation', 'Relationship', 'Race', 'Sex',\n",
       "       'Capital_Gain', 'Capital_Loss', 'Hours_Per_Week', 'Native_Country',\n",
       "       'Class'],\n",
       "      dtype='object')"
      ]
     },
     "execution_count": 3,
     "metadata": {},
     "output_type": "execute_result"
    }
   ],
   "source": [
    "# data preprocessing\n",
    "data = pd.read_csv(\"adult_train.csv\")\n",
    "data_test = pd.read_csv(\"adult_test.csv\")\n",
    "\n",
    "# add column names\n",
    "data.columns =['Age', 'Workclass', 'Fnlwgt', 'Education', 'Education_Num', 'Marital_Status', 'Occupation', 'Relationship', 'Race', 'Sex', 'Capital_Gain', 'Capital_Loss', 'Hours_Per_Week', 'Native_Country', 'Class']\n",
    "data_test.columns = ['Age', 'Workclass', 'Fnlwgt', 'Education', 'Education_Num', 'Marital_Status', 'Occupation', 'Relationship', 'Race', 'Sex', 'Capital_Gain', 'Capital_Loss', 'Hours_Per_Week', 'Native_Country', 'Class']\n",
    "data.columns"
   ]
  },
  {
   "cell_type": "code",
   "execution_count": 4,
   "id": "54d9016e",
   "metadata": {},
   "outputs": [
    {
     "name": "stdout",
     "output_type": "stream",
     "text": [
      " <=50K    24719\n",
      " >50K      7841\n",
      "Name: Class, dtype: int64\n"
     ]
    }
   ],
   "source": [
    "# find the value count for the class var\n",
    "print(data['Class'].value_counts())"
   ]
  },
  {
   "cell_type": "code",
   "execution_count": 5,
   "id": "631442d1",
   "metadata": {},
   "outputs": [],
   "source": [
    "# drop na values and missing values with '?'\n",
    "pd.isnull(data).sum()\n",
    "pd.isnull(data_test).sum()\n",
    "data = data[(data.astype(str) != ' ?').all(axis = 1)]\n",
    "data_test = data_test[(data_test.astype(str) != ' ?').all(axis = 1)]"
   ]
  },
  {
   "cell_type": "code",
   "execution_count": 6,
   "id": "07d677c3",
   "metadata": {},
   "outputs": [],
   "source": [
    "# drop irrelevant columns\n",
    "data = data.drop(['Fnlwgt','Capital_Gain','Capital_Loss','Native_Country'], axis = 1)\n",
    "data_test = data_test.drop(['Fnlwgt','Capital_Gain','Capital_Loss','Native_Country'], axis = 1)"
   ]
  },
  {
   "cell_type": "code",
   "execution_count": 7,
   "id": "a8d709dc",
   "metadata": {},
   "outputs": [
    {
     "data": {
      "text/html": [
       "<div>\n",
       "<style scoped>\n",
       "    .dataframe tbody tr th:only-of-type {\n",
       "        vertical-align: middle;\n",
       "    }\n",
       "\n",
       "    .dataframe tbody tr th {\n",
       "        vertical-align: top;\n",
       "    }\n",
       "\n",
       "    .dataframe thead th {\n",
       "        text-align: right;\n",
       "    }\n",
       "</style>\n",
       "<table border=\"1\" class=\"dataframe\">\n",
       "  <thead>\n",
       "    <tr style=\"text-align: right;\">\n",
       "      <th></th>\n",
       "      <th>Age</th>\n",
       "      <th>Workclass</th>\n",
       "      <th>Education</th>\n",
       "      <th>Education_Num</th>\n",
       "      <th>Marital_Status</th>\n",
       "      <th>Occupation</th>\n",
       "      <th>Relationship</th>\n",
       "      <th>Race</th>\n",
       "      <th>Sex</th>\n",
       "      <th>Hours_Per_Week</th>\n",
       "      <th>Class</th>\n",
       "    </tr>\n",
       "  </thead>\n",
       "  <tbody>\n",
       "    <tr>\n",
       "      <th>0</th>\n",
       "      <td>50</td>\n",
       "      <td>Self-emp-not-inc</td>\n",
       "      <td>Bachelors</td>\n",
       "      <td>13</td>\n",
       "      <td>Married-civ-spouse</td>\n",
       "      <td>Exec-managerial</td>\n",
       "      <td>Husband</td>\n",
       "      <td>White</td>\n",
       "      <td>Male</td>\n",
       "      <td>13</td>\n",
       "      <td>0</td>\n",
       "    </tr>\n",
       "    <tr>\n",
       "      <th>1</th>\n",
       "      <td>38</td>\n",
       "      <td>Private</td>\n",
       "      <td>HS-grad</td>\n",
       "      <td>9</td>\n",
       "      <td>Divorced</td>\n",
       "      <td>Handlers-cleaners</td>\n",
       "      <td>Not-in-family</td>\n",
       "      <td>White</td>\n",
       "      <td>Male</td>\n",
       "      <td>40</td>\n",
       "      <td>0</td>\n",
       "    </tr>\n",
       "    <tr>\n",
       "      <th>2</th>\n",
       "      <td>53</td>\n",
       "      <td>Private</td>\n",
       "      <td>11th</td>\n",
       "      <td>7</td>\n",
       "      <td>Married-civ-spouse</td>\n",
       "      <td>Handlers-cleaners</td>\n",
       "      <td>Husband</td>\n",
       "      <td>Black</td>\n",
       "      <td>Male</td>\n",
       "      <td>40</td>\n",
       "      <td>0</td>\n",
       "    </tr>\n",
       "    <tr>\n",
       "      <th>3</th>\n",
       "      <td>28</td>\n",
       "      <td>Private</td>\n",
       "      <td>Bachelors</td>\n",
       "      <td>13</td>\n",
       "      <td>Married-civ-spouse</td>\n",
       "      <td>Prof-specialty</td>\n",
       "      <td>Wife</td>\n",
       "      <td>Black</td>\n",
       "      <td>Female</td>\n",
       "      <td>40</td>\n",
       "      <td>0</td>\n",
       "    </tr>\n",
       "    <tr>\n",
       "      <th>4</th>\n",
       "      <td>37</td>\n",
       "      <td>Private</td>\n",
       "      <td>Masters</td>\n",
       "      <td>14</td>\n",
       "      <td>Married-civ-spouse</td>\n",
       "      <td>Exec-managerial</td>\n",
       "      <td>Wife</td>\n",
       "      <td>White</td>\n",
       "      <td>Female</td>\n",
       "      <td>40</td>\n",
       "      <td>0</td>\n",
       "    </tr>\n",
       "  </tbody>\n",
       "</table>\n",
       "</div>"
      ],
      "text/plain": [
       "   Age          Workclass   Education  Education_Num       Marital_Status  \\\n",
       "0   50   Self-emp-not-inc   Bachelors             13   Married-civ-spouse   \n",
       "1   38            Private     HS-grad              9             Divorced   \n",
       "2   53            Private        11th              7   Married-civ-spouse   \n",
       "3   28            Private   Bachelors             13   Married-civ-spouse   \n",
       "4   37            Private     Masters             14   Married-civ-spouse   \n",
       "\n",
       "           Occupation    Relationship    Race      Sex  Hours_Per_Week  Class  \n",
       "0     Exec-managerial         Husband   White     Male              13      0  \n",
       "1   Handlers-cleaners   Not-in-family   White     Male              40      0  \n",
       "2   Handlers-cleaners         Husband   Black     Male              40      0  \n",
       "3      Prof-specialty            Wife   Black   Female              40      0  \n",
       "4     Exec-managerial            Wife   White   Female              40      0  "
      ]
     },
     "execution_count": 7,
     "metadata": {},
     "output_type": "execute_result"
    }
   ],
   "source": [
    "# convert response (Class) to int since sklearn do not accept categorical var as response\n",
    "data[\"Class\"] = data[\"Class\"].astype('category')\n",
    "data[\"Class\"] = data[\"Class\"].cat.codes\n",
    "data_test[\"Class\"] = data_test[\"Class\"].astype('category')\n",
    "data_test[\"Class\"] = data_test[\"Class\"].cat.codes\n",
    "label = data[\"Class\"]\n",
    "label_test = data_test[\"Class\"]\n",
    "data.head()"
   ]
  },
  {
   "cell_type": "code",
   "execution_count": 8,
   "id": "6a83151c",
   "metadata": {
    "scrolled": true
   },
   "outputs": [
    {
     "data": {
      "text/html": [
       "<div>\n",
       "<style scoped>\n",
       "    .dataframe tbody tr th:only-of-type {\n",
       "        vertical-align: middle;\n",
       "    }\n",
       "\n",
       "    .dataframe tbody tr th {\n",
       "        vertical-align: top;\n",
       "    }\n",
       "\n",
       "    .dataframe thead th {\n",
       "        text-align: right;\n",
       "    }\n",
       "</style>\n",
       "<table border=\"1\" class=\"dataframe\">\n",
       "  <thead>\n",
       "    <tr style=\"text-align: right;\">\n",
       "      <th></th>\n",
       "      <th>Age</th>\n",
       "      <th>Education_Num</th>\n",
       "      <th>Hours_Per_Week</th>\n",
       "      <th>Workclass_ Federal-gov</th>\n",
       "      <th>Workclass_ Local-gov</th>\n",
       "      <th>Workclass_ Private</th>\n",
       "      <th>Workclass_ Self-emp-inc</th>\n",
       "      <th>Workclass_ Self-emp-not-inc</th>\n",
       "      <th>Workclass_ State-gov</th>\n",
       "      <th>Workclass_ Without-pay</th>\n",
       "      <th>...</th>\n",
       "      <th>Relationship_ Own-child</th>\n",
       "      <th>Relationship_ Unmarried</th>\n",
       "      <th>Relationship_ Wife</th>\n",
       "      <th>Race_ Amer-Indian-Eskimo</th>\n",
       "      <th>Race_ Asian-Pac-Islander</th>\n",
       "      <th>Race_ Black</th>\n",
       "      <th>Race_ Other</th>\n",
       "      <th>Race_ White</th>\n",
       "      <th>Sex_ Female</th>\n",
       "      <th>Sex_ Male</th>\n",
       "    </tr>\n",
       "  </thead>\n",
       "  <tbody>\n",
       "    <tr>\n",
       "      <th>0</th>\n",
       "      <td>50</td>\n",
       "      <td>13</td>\n",
       "      <td>13</td>\n",
       "      <td>0</td>\n",
       "      <td>0</td>\n",
       "      <td>0</td>\n",
       "      <td>0</td>\n",
       "      <td>1</td>\n",
       "      <td>0</td>\n",
       "      <td>0</td>\n",
       "      <td>...</td>\n",
       "      <td>0</td>\n",
       "      <td>0</td>\n",
       "      <td>0</td>\n",
       "      <td>0</td>\n",
       "      <td>0</td>\n",
       "      <td>0</td>\n",
       "      <td>0</td>\n",
       "      <td>1</td>\n",
       "      <td>0</td>\n",
       "      <td>1</td>\n",
       "    </tr>\n",
       "    <tr>\n",
       "      <th>1</th>\n",
       "      <td>38</td>\n",
       "      <td>9</td>\n",
       "      <td>40</td>\n",
       "      <td>0</td>\n",
       "      <td>0</td>\n",
       "      <td>1</td>\n",
       "      <td>0</td>\n",
       "      <td>0</td>\n",
       "      <td>0</td>\n",
       "      <td>0</td>\n",
       "      <td>...</td>\n",
       "      <td>0</td>\n",
       "      <td>0</td>\n",
       "      <td>0</td>\n",
       "      <td>0</td>\n",
       "      <td>0</td>\n",
       "      <td>0</td>\n",
       "      <td>0</td>\n",
       "      <td>1</td>\n",
       "      <td>0</td>\n",
       "      <td>1</td>\n",
       "    </tr>\n",
       "    <tr>\n",
       "      <th>2</th>\n",
       "      <td>53</td>\n",
       "      <td>7</td>\n",
       "      <td>40</td>\n",
       "      <td>0</td>\n",
       "      <td>0</td>\n",
       "      <td>1</td>\n",
       "      <td>0</td>\n",
       "      <td>0</td>\n",
       "      <td>0</td>\n",
       "      <td>0</td>\n",
       "      <td>...</td>\n",
       "      <td>0</td>\n",
       "      <td>0</td>\n",
       "      <td>0</td>\n",
       "      <td>0</td>\n",
       "      <td>0</td>\n",
       "      <td>1</td>\n",
       "      <td>0</td>\n",
       "      <td>0</td>\n",
       "      <td>0</td>\n",
       "      <td>1</td>\n",
       "    </tr>\n",
       "    <tr>\n",
       "      <th>3</th>\n",
       "      <td>28</td>\n",
       "      <td>13</td>\n",
       "      <td>40</td>\n",
       "      <td>0</td>\n",
       "      <td>0</td>\n",
       "      <td>1</td>\n",
       "      <td>0</td>\n",
       "      <td>0</td>\n",
       "      <td>0</td>\n",
       "      <td>0</td>\n",
       "      <td>...</td>\n",
       "      <td>0</td>\n",
       "      <td>0</td>\n",
       "      <td>1</td>\n",
       "      <td>0</td>\n",
       "      <td>0</td>\n",
       "      <td>1</td>\n",
       "      <td>0</td>\n",
       "      <td>0</td>\n",
       "      <td>1</td>\n",
       "      <td>0</td>\n",
       "    </tr>\n",
       "    <tr>\n",
       "      <th>4</th>\n",
       "      <td>37</td>\n",
       "      <td>14</td>\n",
       "      <td>40</td>\n",
       "      <td>0</td>\n",
       "      <td>0</td>\n",
       "      <td>1</td>\n",
       "      <td>0</td>\n",
       "      <td>0</td>\n",
       "      <td>0</td>\n",
       "      <td>0</td>\n",
       "      <td>...</td>\n",
       "      <td>0</td>\n",
       "      <td>0</td>\n",
       "      <td>1</td>\n",
       "      <td>0</td>\n",
       "      <td>0</td>\n",
       "      <td>0</td>\n",
       "      <td>0</td>\n",
       "      <td>1</td>\n",
       "      <td>1</td>\n",
       "      <td>0</td>\n",
       "    </tr>\n",
       "  </tbody>\n",
       "</table>\n",
       "<p>5 rows × 60 columns</p>\n",
       "</div>"
      ],
      "text/plain": [
       "   Age  Education_Num  Hours_Per_Week  Workclass_ Federal-gov  \\\n",
       "0   50             13              13                       0   \n",
       "1   38              9              40                       0   \n",
       "2   53              7              40                       0   \n",
       "3   28             13              40                       0   \n",
       "4   37             14              40                       0   \n",
       "\n",
       "   Workclass_ Local-gov  Workclass_ Private  Workclass_ Self-emp-inc  \\\n",
       "0                     0                   0                        0   \n",
       "1                     0                   1                        0   \n",
       "2                     0                   1                        0   \n",
       "3                     0                   1                        0   \n",
       "4                     0                   1                        0   \n",
       "\n",
       "   Workclass_ Self-emp-not-inc  Workclass_ State-gov  Workclass_ Without-pay  \\\n",
       "0                            1                     0                       0   \n",
       "1                            0                     0                       0   \n",
       "2                            0                     0                       0   \n",
       "3                            0                     0                       0   \n",
       "4                            0                     0                       0   \n",
       "\n",
       "   ...  Relationship_ Own-child  Relationship_ Unmarried  Relationship_ Wife  \\\n",
       "0  ...                        0                        0                   0   \n",
       "1  ...                        0                        0                   0   \n",
       "2  ...                        0                        0                   0   \n",
       "3  ...                        0                        0                   1   \n",
       "4  ...                        0                        0                   1   \n",
       "\n",
       "   Race_ Amer-Indian-Eskimo  Race_ Asian-Pac-Islander  Race_ Black  \\\n",
       "0                         0                         0            0   \n",
       "1                         0                         0            0   \n",
       "2                         0                         0            1   \n",
       "3                         0                         0            1   \n",
       "4                         0                         0            0   \n",
       "\n",
       "   Race_ Other  Race_ White  Sex_ Female  Sex_ Male  \n",
       "0            0            1            0          1  \n",
       "1            0            1            0          1  \n",
       "2            0            0            0          1  \n",
       "3            0            0            1          0  \n",
       "4            0            1            1          0  \n",
       "\n",
       "[5 rows x 60 columns]"
      ]
     },
     "execution_count": 8,
     "metadata": {},
     "output_type": "execute_result"
    }
   ],
   "source": [
    "# extract the predictor matrix\n",
    "data = data.drop('Class', 1)\n",
    "data_test = data_test.drop('Class', 1)\n",
    "\n",
    "# convert all cat value to numerical using one hot encoding\n",
    "data = pd.get_dummies(data, columns=['Workclass', 'Education', 'Marital_Status', 'Occupation', 'Relationship', 'Race', 'Sex'])\n",
    "data_test = pd.get_dummies(data_test, columns=['Workclass', 'Education', 'Marital_Status', 'Occupation', 'Relationship', 'Race', 'Sex'])\n",
    "data.head()"
   ]
  },
  {
   "cell_type": "code",
   "execution_count": 9,
   "id": "d18c1306",
   "metadata": {},
   "outputs": [
    {
     "data": {
      "text/plain": [
       "30161"
      ]
     },
     "execution_count": 9,
     "metadata": {},
     "output_type": "execute_result"
    }
   ],
   "source": [
    "len(data.index)"
   ]
  },
  {
   "cell_type": "code",
   "execution_count": 10,
   "id": "38b4f632",
   "metadata": {},
   "outputs": [
    {
     "data": {
      "text/plain": [
       "30161"
      ]
     },
     "execution_count": 10,
     "metadata": {},
     "output_type": "execute_result"
    }
   ],
   "source": [
    "len(label.index)"
   ]
  },
  {
   "cell_type": "code",
   "execution_count": 11,
   "id": "dd9f59de",
   "metadata": {},
   "outputs": [],
   "source": [
    "# get an instance of decision tree classifier\n",
    "dt = tree.DecisionTreeClassifier()\n",
    "# dt_res = cross_val(dt, data, label, 5)\n",
    "# dt_res"
   ]
  },
  {
   "cell_type": "code",
   "execution_count": 12,
   "id": "da9174fe",
   "metadata": {},
   "outputs": [
    {
     "data": {
      "text/plain": [
       "{'ccp_alpha': 0.0,\n",
       " 'class_weight': None,\n",
       " 'criterion': 'gini',\n",
       " 'max_depth': None,\n",
       " 'max_features': None,\n",
       " 'max_leaf_nodes': None,\n",
       " 'min_impurity_decrease': 0.0,\n",
       " 'min_impurity_split': None,\n",
       " 'min_samples_leaf': 1,\n",
       " 'min_samples_split': 2,\n",
       " 'min_weight_fraction_leaf': 0.0,\n",
       " 'random_state': None,\n",
       " 'splitter': 'best'}"
      ]
     },
     "execution_count": 12,
     "metadata": {},
     "output_type": "execute_result"
    }
   ],
   "source": [
    "# hyper parameter tuning based on the cross validation scores\n",
    "\n",
    "# visualize the hyperparameters for dt\n",
    "dt.get_params()"
   ]
  },
  {
   "cell_type": "code",
   "execution_count": 13,
   "id": "635e9c56",
   "metadata": {},
   "outputs": [],
   "source": [
    "# I chose the most important hyperparameters based on recommendation on this source: https://towardsdatascience.com/5-decision-tree-hyperparameters-to-enhance-your-tree-algorithms-aee2cebe92c8\n",
    "# They are: max_depth, max_features, min_impurity_decrease, min_samples_split, min_samples_leaf\n",
    "# define the range of all possible value of the five candidate hyperparameters\n",
    "max_depth = list(np.arange(10, 100, step=10)) + [None]\n",
    "max_features = [\"auto\", \"sqrt\", \"log2\", None]\n",
    "min_impurity_decrease = [0.00005,0.0001,0.0002,0.0005,0.001,0.0015,0.002,0.005,0.01, 0] # value choice source: https://medium.datadriveninvestor.com/decision-tree-adventures-2-explanation-of-decision-tree-classifier-parameters-84776f39a28\n",
    "min_samples_split = list(np.arange(5, 140, step=5)) + [200,250,300,350,400,2]\n",
    "min_samples_leaf = list(np.arange(5, 100, step=5)) +[150,200,1]"
   ]
  },
  {
   "cell_type": "code",
   "execution_count": 14,
   "id": "c7fe97fd",
   "metadata": {},
   "outputs": [
    {
     "data": {
      "text/plain": [
       "{'max_depth': [10, 20, 30, 40, 50, 60, 70, 80, 90, None],\n",
       " 'max_features': ['auto', 'sqrt', 'log2', None],\n",
       " 'min_impurity_decrease': [5e-05,\n",
       "  0.0001,\n",
       "  0.0002,\n",
       "  0.0005,\n",
       "  0.001,\n",
       "  0.0015,\n",
       "  0.002,\n",
       "  0.005,\n",
       "  0.01,\n",
       "  0],\n",
       " 'min_samples_split': [5,\n",
       "  10,\n",
       "  15,\n",
       "  20,\n",
       "  25,\n",
       "  30,\n",
       "  35,\n",
       "  40,\n",
       "  45,\n",
       "  50,\n",
       "  55,\n",
       "  60,\n",
       "  65,\n",
       "  70,\n",
       "  75,\n",
       "  80,\n",
       "  85,\n",
       "  90,\n",
       "  95,\n",
       "  100,\n",
       "  105,\n",
       "  110,\n",
       "  115,\n",
       "  120,\n",
       "  125,\n",
       "  130,\n",
       "  135,\n",
       "  200,\n",
       "  250,\n",
       "  300,\n",
       "  350,\n",
       "  400,\n",
       "  2],\n",
       " 'min_samples_leaf': [5,\n",
       "  10,\n",
       "  15,\n",
       "  20,\n",
       "  25,\n",
       "  30,\n",
       "  35,\n",
       "  40,\n",
       "  45,\n",
       "  50,\n",
       "  55,\n",
       "  60,\n",
       "  65,\n",
       "  70,\n",
       "  75,\n",
       "  80,\n",
       "  85,\n",
       "  90,\n",
       "  95,\n",
       "  150,\n",
       "  200,\n",
       "  1]}"
      ]
     },
     "execution_count": 14,
     "metadata": {},
     "output_type": "execute_result"
    }
   ],
   "source": [
    "# define the param_grid\n",
    "param_grid = {\n",
    "    \"max_depth\": max_depth,\n",
    "    \"max_features\": max_features,\n",
    "    \"min_impurity_decrease\": min_impurity_decrease,\n",
    "    \"min_samples_split\": min_samples_split,\n",
    "    \"min_samples_leaf\": min_samples_leaf,\n",
    "}\n",
    "\n",
    "param_grid"
   ]
  },
  {
   "cell_type": "code",
   "execution_count": 15,
   "id": "24e98c13",
   "metadata": {},
   "outputs": [],
   "source": [
    "# for the sake of hyperparameter tuning time, we select RandomizedSearchCV instead of the GridSearchCV\n",
    "random_cv = RandomizedSearchCV(\n",
    "    dt, param_grid, n_iter=200, cv=5, scoring=\"accuracy\", n_jobs=-1\n",
    ")"
   ]
  },
  {
   "cell_type": "code",
   "execution_count": 16,
   "id": "34293e2a",
   "metadata": {},
   "outputs": [
    {
     "name": "stdout",
     "output_type": "stream",
     "text": [
      "The best parameter combination is:\n",
      " \n",
      "min_samples_split\t55\n",
      "min_samples_leaf\t1\n",
      "min_impurity_decrease\t0.0001\n",
      "max_features\tNone\n",
      "max_depth\t40\n",
      "Wall time: 20.1 s\n"
     ]
    }
   ],
   "source": [
    "%%time\n",
    "random_cv.fit(data, label)\n",
    "print(\"The best parameter combination is:\\n \")\n",
    "print(\"\\n\".join(\"{}\\t{}\".format(k, v) for k, v in random_cv.best_params_.items()))"
   ]
  },
  {
   "cell_type": "code",
   "execution_count": 17,
   "id": "fae56058",
   "metadata": {},
   "outputs": [
    {
     "data": {
      "text/plain": [
       "0.8315375514247236"
      ]
     },
     "execution_count": 17,
     "metadata": {},
     "output_type": "execute_result"
    }
   ],
   "source": [
    "# view the best score during the cross validation step\n",
    "random_cv.best_score_"
   ]
  },
  {
   "cell_type": "code",
   "execution_count": 19,
   "id": "ea9dd068",
   "metadata": {},
   "outputs": [],
   "source": [
    "# change the hyperparameters accordingly\n",
    "dt_tuned = tree.DecisionTreeClassifier(max_depth = 40, max_features = None, min_impurity_decrease = 0.0001, min_samples_leaf = 1, min_samples_split = 55)"
   ]
  },
  {
   "cell_type": "code",
   "execution_count": 22,
   "id": "cf20cafb",
   "metadata": {},
   "outputs": [
    {
     "name": "stdout",
     "output_type": "stream",
     "text": [
      "Wall time: 117 ms\n"
     ]
    }
   ],
   "source": [
    "%%time\n",
    "# fit the training data into the decision tree model\n",
    "dt_tuned = dt_tuned.fit(data, label)"
   ]
  },
  {
   "cell_type": "code",
   "execution_count": 23,
   "id": "c74c29ae",
   "metadata": {},
   "outputs": [
    {
     "name": "stdout",
     "output_type": "stream",
     "text": [
      "Wall time: 8 ms\n"
     ]
    }
   ],
   "source": [
    "%%time\n",
    "# predict the test data label\n",
    "pred_tuned = dt_tuned.predict(data_test)"
   ]
  },
  {
   "cell_type": "code",
   "execution_count": 24,
   "id": "25ff7a9c",
   "metadata": {},
   "outputs": [
    {
     "name": "stdout",
     "output_type": "stream",
     "text": [
      "Accuracy of decision tree metric: 0.8321269672621024\n"
     ]
    }
   ],
   "source": [
    "# check accuracy against the original y\n",
    "print(\"Accuracy of decision tree metric:\",metrics.accuracy_score(label_test, pred_tuned))"
   ]
  },
  {
   "cell_type": "code",
   "execution_count": 25,
   "id": "7e939cff",
   "metadata": {},
   "outputs": [
    {
     "name": "stdout",
     "output_type": "stream",
     "text": [
      "[[10332  1027]\n",
      " [ 1501  2199]]\n",
      "              precision    recall  f1-score   support\n",
      "\n",
      "           0       0.87      0.91      0.89     11359\n",
      "           1       0.68      0.59      0.63      3700\n",
      "\n",
      "    accuracy                           0.83     15059\n",
      "   macro avg       0.78      0.75      0.76     15059\n",
      "weighted avg       0.83      0.83      0.83     15059\n",
      "\n"
     ]
    }
   ],
   "source": [
    "# view the confusion matrix\n",
    "print(confusion_matrix(label_test, pred_tuned))\n",
    "print(classification_report(label_test, pred_tuned))"
   ]
  },
  {
   "cell_type": "code",
   "execution_count": 26,
   "id": "97c435b1",
   "metadata": {},
   "outputs": [],
   "source": [
    "# PR curve for DT classifier\n",
    "precision, recall, thresholds = precision_recall_curve(label_test, pred_tuned)"
   ]
  },
  {
   "cell_type": "code",
   "execution_count": 27,
   "id": "95a009ad",
   "metadata": {},
   "outputs": [
    {
     "data": {
      "image/png": "[encoded data removed]",
      "text/plain": [
       "<Figure size 432x288 with 1 Axes>"
      ]
     },
     "metadata": {
      "needs_background": "light"
     },
     "output_type": "display_data"
    }
   ],
   "source": [
    "plt.plot(recall, precision, color='b', label='Precision-Recall curve for DT')\n",
    "plt.xlabel('Recall')\n",
    "plt.ylabel('Precision')\n",
    "plt.legend()\n",
    "plt.show()"
   ]
  },
  {
   "cell_type": "code",
   "execution_count": 28,
   "id": "9e1226ef",
   "metadata": {},
   "outputs": [
    {
     "data": {
      "text/plain": [
       "0.7519557179329167"
      ]
     },
     "execution_count": 28,
     "metadata": {},
     "output_type": "execute_result"
    }
   ],
   "source": [
    "# ROC curve for DT\n",
    "fpr, tpr, thresholds = roc_curve(label_test, pred_tuned)\n",
    "roc_auc = auc(fpr, tpr)\n",
    "roc_auc"
   ]
  },
  {
   "cell_type": "code",
   "execution_count": 29,
   "id": "2be043db",
   "metadata": {},
   "outputs": [
    {
     "data": {
      "image/png": "[encoded data removed]",
      "text/plain": [
       "<Figure size 432x288 with 1 Axes>"
      ]
     },
     "metadata": {
      "needs_background": "light"
     },
     "output_type": "display_data"
    }
   ],
   "source": [
    "plt.plot(fpr, tpr, color='b', label='ROC curve for DT (area = %0.2f)' % roc_auc)\n",
    "plt.xlabel('False Positive Rate')\n",
    "plt.ylabel('True Positive Rate')\n",
    "plt.legend()\n",
    "plt.show()"
   ]
  },
  {
   "cell_type": "code",
   "execution_count": 30,
   "id": "1d8030c8",
   "metadata": {},
   "outputs": [
    {
     "data": {
      "image/png": "[encoded data removed]",
      "text/plain": [
       "<Figure size 1440x1440 with 1 Axes>"
      ]
     },
     "metadata": {
      "needs_background": "light"
     },
     "output_type": "display_data"
    }
   ],
   "source": [
    "# visualize the tree (max_depth set to 2 to give a clear view of the tree structure)\n",
    "fig = plt.figure(figsize=(20,20))\n",
    "myTree = tree.plot_tree(dt_tuned,\n",
    "                        feature_names=data_test.columns,\n",
    "                        class_names=[\"<=50K\",\">50K\"],\n",
    "                        filled=True,\n",
    "                        max_depth = 2) "
   ]
  },
  {
   "cell_type": "code",
   "execution_count": 31,
   "id": "5196d011",
   "metadata": {},
   "outputs": [],
   "source": [
    "# Compare the accuracy of Knn and that of Decision Tree metrics\n",
    "# import knn related packages\n",
    "from sklearn.preprocessing import StandardScaler\n",
    "from sklearn.neighbors import KNeighborsClassifier\n",
    "from sklearn.metrics import classification_report, confusion_matrix"
   ]
  },
  {
   "cell_type": "code",
   "execution_count": 33,
   "id": "a0de2b3c",
   "metadata": {},
   "outputs": [],
   "source": [
    "# get an instance of knn classifier\n",
    "knn_classifier = KNeighborsClassifier()"
   ]
  },
  {
   "cell_type": "code",
   "execution_count": 34,
   "id": "e7585c78",
   "metadata": {},
   "outputs": [
    {
     "data": {
      "text/plain": [
       "{'algorithm': 'auto',\n",
       " 'leaf_size': 30,\n",
       " 'metric': 'minkowski',\n",
       " 'metric_params': None,\n",
       " 'n_jobs': None,\n",
       " 'n_neighbors': 5,\n",
       " 'p': 2,\n",
       " 'weights': 'uniform'}"
      ]
     },
     "execution_count": 34,
     "metadata": {},
     "output_type": "execute_result"
    }
   ],
   "source": [
    "# visualize the hyperparameters for knn\n",
    "knn_classifier.get_params()"
   ]
  },
  {
   "cell_type": "code",
   "execution_count": 35,
   "id": "6b75aad0",
   "metadata": {},
   "outputs": [],
   "source": [
    "# choose 5 out of all to reduce time for fine tuning parameters\n",
    "n_neighbors = list(np.arange(1, 30, step = 5))\n",
    "weights = [\"uniform\", \"distance\", None]\n",
    "p = [1, 2, 3]\n",
    "algorithm = [\"auto\", \"ball_tree\", \"kd_tree\", \"brute\"]"
   ]
  },
  {
   "cell_type": "code",
   "execution_count": 36,
   "id": "f9bd7b41",
   "metadata": {},
   "outputs": [
    {
     "data": {
      "text/plain": [
       "{'n_neighbors': [1, 6, 11, 16, 21, 26],\n",
       " 'weights': ['uniform', 'distance', None],\n",
       " 'p': [1, 2, 3],\n",
       " 'algorithm': ['auto', 'ball_tree', 'kd_tree', 'brute']}"
      ]
     },
     "execution_count": 36,
     "metadata": {},
     "output_type": "execute_result"
    }
   ],
   "source": [
    "# define the param_grid\n",
    "param_grid = {\n",
    "    \"n_neighbors\": n_neighbors,\n",
    "    \"weights\": weights,\n",
    "    \"p\": p,\n",
    "    \"algorithm\": algorithm,\n",
    "#     \"leaf_size\": leaf_size,\n",
    "}\n",
    "\n",
    "param_grid"
   ]
  },
  {
   "cell_type": "code",
   "execution_count": 37,
   "id": "c72c7242",
   "metadata": {},
   "outputs": [],
   "source": [
    "# for the sake of hyperparameter tuning time, we select RandomizedSearchCV instead of the GridSearchCV\n",
    "random_cv = RandomizedSearchCV(\n",
    "    knn_classifier, param_grid, n_iter=200, cv=5, scoring=\"accuracy\", n_jobs=-1\n",
    ")"
   ]
  },
  {
   "cell_type": "code",
   "execution_count": 40,
   "id": "61ccc30a",
   "metadata": {},
   "outputs": [
    {
     "name": "stdout",
     "output_type": "stream",
     "text": [
      "The best parameter combination is:\n",
      " \n",
      "weights\tuniform\n",
      "p\t1\n",
      "n_neighbors\t26\n",
      "algorithm\tball_tree\n",
      "Wall time: 32min 13s\n"
     ]
    }
   ],
   "source": [
    "%%time\n",
    "random_cv.fit(data, label)\n",
    "print(\"The best parameter combination is:\\n \")\n",
    "print(\"\\n\".join(\"{}\\t{}\".format(k, v) for k, v in random_cv.best_params_.items()))"
   ]
  },
  {
   "cell_type": "code",
   "execution_count": 41,
   "id": "101b40be",
   "metadata": {},
   "outputs": [
    {
     "data": {
      "text/plain": [
       "0.8249064220615088"
      ]
     },
     "execution_count": 41,
     "metadata": {},
     "output_type": "execute_result"
    }
   ],
   "source": [
    "# view the best score during the cross validation step\n",
    "random_cv.best_score_"
   ]
  },
  {
   "cell_type": "code",
   "execution_count": 42,
   "id": "d980f046",
   "metadata": {},
   "outputs": [],
   "source": [
    "# change the hyperparameters accordingly\n",
    "knn_tuned = KNeighborsClassifier(n_neighbors = 26, weights = \"uniform\", p = 1, algorithm = \"ball_tree\")"
   ]
  },
  {
   "cell_type": "code",
   "execution_count": 43,
   "id": "1bf31e0e",
   "metadata": {},
   "outputs": [
    {
     "name": "stdout",
     "output_type": "stream",
     "text": [
      "Wall time: 307 ms\n"
     ]
    }
   ],
   "source": [
    "%%time\n",
    "# fit the training data into the decision knn model\n",
    "knn_tuned = knn_tuned.fit(data, label)"
   ]
  },
  {
   "cell_type": "code",
   "execution_count": 44,
   "id": "e20344a2",
   "metadata": {},
   "outputs": [
    {
     "name": "stdout",
     "output_type": "stream",
     "text": [
      "Wall time: 14.2 s\n"
     ]
    }
   ],
   "source": [
    "%%time\n",
    "# predict the test data label\n",
    "pred_tuned = knn_tuned.predict(data_test)"
   ]
  },
  {
   "cell_type": "code",
   "execution_count": 45,
   "id": "9113d250",
   "metadata": {},
   "outputs": [
    {
     "name": "stdout",
     "output_type": "stream",
     "text": [
      "Accuracy of KNN metric: 0.8200411713925227\n"
     ]
    }
   ],
   "source": [
    "# check accuracy against the original y\n",
    "print(\"Accuracy of KNN metric:\",metrics.accuracy_score(label_test, pred_tuned))"
   ]
  },
  {
   "cell_type": "code",
   "execution_count": 46,
   "id": "6f8f90c1",
   "metadata": {},
   "outputs": [
    {
     "name": "stdout",
     "output_type": "stream",
     "text": [
      "[[10307  1052]\n",
      " [ 1658  2042]]\n",
      "              precision    recall  f1-score   support\n",
      "\n",
      "           0       0.86      0.91      0.88     11359\n",
      "           1       0.66      0.55      0.60      3700\n",
      "\n",
      "    accuracy                           0.82     15059\n",
      "   macro avg       0.76      0.73      0.74     15059\n",
      "weighted avg       0.81      0.82      0.81     15059\n",
      "\n"
     ]
    }
   ],
   "source": [
    "# view the confusion matrix\n",
    "print(confusion_matrix(label_test, pred_tuned))\n",
    "print(classification_report(label_test, pred_tuned))"
   ]
  },
  {
   "cell_type": "code",
   "execution_count": 47,
   "id": "96803bf1",
   "metadata": {},
   "outputs": [
    {
     "data": {
      "text/plain": [
       "0.6609896179530519"
      ]
     },
     "execution_count": 47,
     "metadata": {},
     "output_type": "execute_result"
    }
   ],
   "source": [
    "# PR curve for knn classifier\n",
    "precision, recall, thresholds = precision_recall_curve(label_test, pred_tuned)\n",
    "pr_auc = auc(recall, precision)\n",
    "pr_auc"
   ]
  },
  {
   "cell_type": "code",
   "execution_count": 48,
   "id": "1e20f883",
   "metadata": {},
   "outputs": [
    {
     "data": {
      "image/png": "[encoded data removed]",
      "text/plain": [
       "<Figure size 432x288 with 1 Axes>"
      ]
     },
     "metadata": {
      "needs_background": "light"
     },
     "output_type": "display_data"
    }
   ],
   "source": [
    "plt.plot(recall, precision, color='b', label='Precision-Recall curve for KNN')\n",
    "plt.xlabel('Recall')\n",
    "plt.ylabel('Precision')\n",
    "plt.legend()\n",
    "plt.show()"
   ]
  },
  {
   "cell_type": "code",
   "execution_count": 49,
   "id": "fdf3a084",
   "metadata": {},
   "outputs": [
    {
     "data": {
      "text/plain": [
       "0.7296390527335153"
      ]
     },
     "execution_count": 49,
     "metadata": {},
     "output_type": "execute_result"
    }
   ],
   "source": [
    "# ROC curve for KNN\n",
    "fpr, tpr, thresholds = roc_curve(label_test, pred_tuned)\n",
    "roc_auc = auc(fpr, tpr)\n",
    "roc_auc"
   ]
  },
  {
   "cell_type": "code",
   "execution_count": 50,
   "id": "c3fc0b85",
   "metadata": {},
   "outputs": [
    {
     "data": {
      "image/png": "[encoded data removed]",
      "text/plain": [
       "<Figure size 432x288 with 1 Axes>"
      ]
     },
     "metadata": {
      "needs_background": "light"
     },
     "output_type": "display_data"
    }
   ],
   "source": [
    "plt.plot(fpr, tpr, color='b', label='ROC curve for KNN (area = %0.2f)' % roc_auc)\n",
    "plt.xlabel('False Positive Rate')\n",
    "plt.ylabel('True Positive Rate')\n",
    "plt.legend()\n",
    "plt.show()"
   ]
  },
  {
   "cell_type": "code",
   "execution_count": 51,
   "id": "53504c1a",
   "metadata": {},
   "outputs": [],
   "source": [
    "# Finally comparison using ensemble methods for model comparison\n",
    "models = [('dt', dt_tuned), ('knn', knn_tuned)]\n",
    "ensemble = VotingClassifier(estimators = models, voting = 'soft')"
   ]
  },
  {
   "cell_type": "code",
   "execution_count": 52,
   "id": "9ab93e59",
   "metadata": {},
   "outputs": [
    {
     "name": "stdout",
     "output_type": "stream",
     "text": [
      "Decision Tree: 0.83 (+/- 0.01)\n",
      "KNN: 0.82 (+/- 0.01)\n",
      "Ensemble: 0.83 (+/- 0.01)\n"
     ]
    }
   ],
   "source": [
    "models = [dt_tuned, knn_tuned, ensemble]\n",
    "names = ['Decision Tree', 'KNN', 'Ensemble']\n",
    "res = []\n",
    "for name, model in zip(names, models):\n",
    "    scores = cross_val_score(model, data, label, cv=5, scoring='accuracy')\n",
    "    res.append(scores)\n",
    "    print('%s: %0.2f (+/- %0.2f)' % (name, scores.mean(), scores.std() * 2))"
   ]
  }
 ],
 "metadata": {
  "kernelspec": {
   "display_name": "Python 3",
   "language": "python",
   "name": "python3"
  },
  "language_info": {
   "codemirror_mode": {
    "name": "ipython",
    "version": 3
   },
   "file_extension": ".py",
   "mimetype": "text/x-python",
   "name": "python",
   "nbconvert_exporter": "python",
   "pygments_lexer": "ipython3",
   "version": "3.8.8"
  }
 },
 "nbformat": 4,
 "nbformat_minor": 5
}
